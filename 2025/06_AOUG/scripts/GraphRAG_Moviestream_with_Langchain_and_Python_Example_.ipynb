{
 "cells": [
  {
   "cell_type": "markdown",
   "id": "5cd8799a-097d-40f8-927f-eb0a4e9643d0",
   "metadata": {},
   "source": [
    "# GraphRAG using Oracle Database 23ai"
   ]
  },
  {
   "cell_type": "markdown",
   "id": "2d1529fa-6925-49ef-b86c-297a96b6638b",
   "metadata": {
    "tags": []
   },
   "source": [
    "## GraphRAG using Langchain and Oracle Graph on Oracle Database 23ai\n",
    "\n",
    "Source: https://medium.com/oracledevs/graphrag-using-langchain-and-oracle-graph-on-oracle-database-23ai-part-1-dc76b48a4ca1\n",
    "\n",
    "This notebook show simple examples of how we can use **SQL Property Graphs** on **Oracle Database 23ai** with **AI services like ChatGPT** to provide **more context for the LLM** to answer questions."
   ]
  },
  {
   "cell_type": "markdown",
   "id": "6d90c497-9bc9-4fbb-a067-01ab404c8dce",
   "metadata": {},
   "source": [
    "## Prerequisites\n",
    "\n",
    "1. Access to a 23ai Oracle Database with a graph enabled user.\n"
   ]
  },
  {
   "cell_type": "markdown",
   "id": "c4dde436-849f-409a-a499-832112a21ab7",
   "metadata": {},
   "source": [
    "### Accessing the Oracle DB 23ai"
   ]
  },
  {
   "cell_type": "code",
   "execution_count": null,
   "id": "ae5e6a9a-887d-486f-b007-3b26fa749f9d",
   "metadata": {
    "tags": []
   },
   "outputs": [],
   "source": [
    "import oracledb\n",
    "import getpass"
   ]
  },
  {
   "cell_type": "code",
   "execution_count": null,
   "id": "77429247-2376-44bf-8590-e8756df9b2b5",
   "metadata": {
    "tags": []
   },
   "outputs": [],
   "source": [
    "# Use python-oracledb in Thick mode (https://python-oracledb.readthedocs.io/en/latest/user_guide/installation.html)\n",
    "\n",
    "oracledb.init_oracle_client()"
   ]
  },
  {
   "cell_type": "code",
   "execution_count": null,
   "id": "b1a00488-c442-453e-b8fb-9dd360b11848",
   "metadata": {
    "tags": []
   },
   "outputs": [],
   "source": [
    "# Connection string details for Autonomous DB\n",
    "\n",
    "file=open('/home/datascience/config/db_credentials.txt','r')\n",
    "un=file.readline().strip()\n",
    "cs=file.readline().strip()\n",
    "\n",
    "pw = getpass.getpass(f'Enter password for {un}@{cs}: ')"
   ]
  },
  {
   "cell_type": "code",
   "execution_count": null,
   "id": "81ca9346-1fd5-4820-a46d-5026d6bb7dcf",
   "metadata": {
    "tags": []
   },
   "outputs": [],
   "source": [
    "# Test DB connection\n",
    "\n",
    "with oracledb.connect(user=un, password=pw, dsn=cs) as connection:\n",
    "    with connection.cursor() as cursor:\n",
    "        sql = \"\"\"select sysdate from dual\"\"\"\n",
    "        for r in cursor.execute(sql):\n",
    "            print(r)"
   ]
  },
  {
   "cell_type": "code",
   "execution_count": null,
   "id": "32038d51-6bde-49f5-8218-02eb65983e62",
   "metadata": {
    "tags": []
   },
   "outputs": [],
   "source": [
    "# Get DB connection\n",
    "\n",
    "try:\n",
    "    connection = oracledb.connect(user=un, password=pw, dsn=cs)\n",
    "    print(\"Connection successful!\")\n",
    "except Exception as e:\n",
    "    print(\"Connection failed!\")\n",
    "    sys.exit(1)"
   ]
  },
  {
   "cell_type": "code",
   "execution_count": null,
   "id": "eadc8310-f4c5-4741-b1bf-2341d9254903",
   "metadata": {
    "tags": []
   },
   "outputs": [],
   "source": [
    "# Open a cursor\n",
    "\n",
    "cursor = connection.cursor()"
   ]
  },
  {
   "cell_type": "markdown",
   "id": "72b88c2f-48c6-4371-b713-1525cc9e93d1",
   "metadata": {},
   "source": [
    "### Set up tables and data"
   ]
  },
  {
   "cell_type": "code",
   "execution_count": null,
   "id": "f3b5b403-2ee3-4948-afdf-bba2ba0a7f9e",
   "metadata": {
    "tags": []
   },
   "outputs": [],
   "source": [
    "# Statements to create tables\n",
    "\n",
    "create_movie_table = \"\"\"\n",
    "    CREATE TABLE IF NOT EXISTS MOVIES (\n",
    "        MOVIE_ID        NUMBER,\n",
    "        TITLE           VARCHAR2(400),\n",
    "        GENRES          JSON,\n",
    "        SUMMARY         VARCHAR2(16000)\n",
    "    )\n",
    "\"\"\"\n",
    "\n",
    "create_customer_table = \"\"\"\n",
    "    CREATE TABLE IF NOT EXISTS CUSTOMERS (\n",
    "        CUST_ID        NUMBER,\n",
    "        FIRSTNAME      VARCHAR(200),\n",
    "        LASTNAME       VARCHAR(200)\n",
    "    )\n",
    "\"\"\"\n",
    "\n",
    "create_watched_table = \"\"\"\n",
    "    CREATE TABLE IF NOT EXISTS WATCHED_MOVIE (\n",
    "        DAY_ID            TIMESTAMP(6),      \n",
    "        MOVIE_ID          NUMBER,\n",
    "        PROMO_CUST_ID     NUMBER\n",
    "    )\n",
    "\"\"\""
   ]
  },
  {
   "cell_type": "code",
   "execution_count": null,
   "id": "7b4fa11e-9a22-4dc4-a45e-130368925ac9",
   "metadata": {
    "tags": []
   },
   "outputs": [],
   "source": [
    "# Create tables\n",
    "\n",
    "cursor.execute(create_movie_table)\n",
    "cursor.execute(create_customer_table)\n",
    "cursor.execute(create_watched_table)        "
   ]
  },
  {
   "cell_type": "code",
   "execution_count": null,
   "id": "4b7edfe3-c09d-49f6-87d6-df4a96be5299",
   "metadata": {
    "tags": []
   },
   "outputs": [],
   "source": [
    "# Statements to clean up tables\n",
    "\n",
    "truncate_movie_table = \"\"\"TRUNCATE TABLE MOVIES DROP STORAGE\"\"\"\n",
    "truncate_customer_table = \"\"\"TRUNCATE TABLE CUSTOMERS DROP STORAGE\"\"\"\n",
    "truncate_watched_table = \"\"\"TRUNCATE TABLE WATCHED_MOVIE DROP STORAGE\"\"\""
   ]
  },
  {
   "cell_type": "code",
   "execution_count": null,
   "id": "3e3e9b0f-5a25-4998-b56e-89bdafc64ef1",
   "metadata": {
    "tags": []
   },
   "outputs": [],
   "source": [
    "# Truncate tables\n",
    "\n",
    "cursor.execute(truncate_movie_table)\n",
    "cursor.execute(truncate_customer_table)\n",
    "cursor.execute(truncate_watched_table)"
   ]
  },
  {
   "cell_type": "code",
   "execution_count": null,
   "id": "4d38bca5-d1e2-4dd0-9c99-93e29b05181b",
   "metadata": {
    "tags": []
   },
   "outputs": [],
   "source": [
    "# Populate tables with data\n",
    "\n",
    "cursor.execute(\"\"\"\n",
    "    INSERT INTO MOVIES (MOVIE_ID, TITLE, GENRES, SUMMARY) VALUES\n",
    "        (1, 'Inception', '{\"Action\": \"Sci-Fi\"}', 'A thief who steals corporate secrets through the use of dream-sharing technology is given the inverse task of planting an idea into the mind of a C.E.O.'),\n",
    "        (2, 'The Matrix', '{\"Action\": \"Sci-Fi\"}', 'A computer hacker learns from mysterious rebels about the true nature of his reality and his role in the war against its controllers.'),\n",
    "        (3, 'The Godfather', '{\"Drama\": \"Crime\"}', 'The aging patriarch of an organized crime dynasty transfers control of his clandestine empire to his reluctant son.'),\n",
    "        (4, 'Titanic', '{\"Romance\": \"Drama\"}', 'A seventeen-year-old aristocrat falls in love with a kind but poor artist aboard the luxurious, ill-fated R.M.S. Titanic.'),\n",
    "        (5, 'Toy Story', '{\"Animation\": \"Adventure\"}', 'A cowboy doll is profoundly threatened and jealous when a new spaceman figure supplants him as top toy in a boy''s room.')\n",
    "\"\"\")\n",
    "\n",
    "cursor.execute(\"\"\"\n",
    "    INSERT INTO CUSTOMERS (CUST_ID, FIRSTNAME, LASTNAME) VALUES\n",
    "        (101, 'John', 'Doe'),\n",
    "        (102, 'Jane', 'Smith'),\n",
    "        (103, 'Sam', 'Wilson'),\n",
    "        (104, 'Emily', 'Clark'),\n",
    "        (105, 'Michael', 'Johnson')\n",
    "\"\"\")\n",
    "\n",
    "cursor.execute(\"\"\"\n",
    "    INSERT INTO WATCHED_MOVIE (DAY_ID, MOVIE_ID, PROMO_CUST_ID) VALUES\n",
    "        (TO_TIMESTAMP('2024-10-30 12:34:56.123456', 'YYYY-MM-DD HH24:MI:SS.FF'), 1, 101),\n",
    "        (TO_TIMESTAMP('2024-10-31 12:34:56.123456', 'YYYY-MM-DD HH24:MI:SS.FF'), 2, 101),\n",
    "        (TO_TIMESTAMP('2024-09-30 12:34:56.123456', 'YYYY-MM-DD HH24:MI:SS.FF'), 3, 101),\n",
    "        (TO_TIMESTAMP('2024-10-31 09:15:23.654321', 'YYYY-MM-DD HH24:MI:SS.FF'), 2, 102),\n",
    "        (TO_TIMESTAMP('2024-11-01 16:45:12.987654', 'YYYY-MM-DD HH24:MI:SS.FF'), 3, 103),\n",
    "        (TO_TIMESTAMP('2024-11-02 18:22:43.123456', 'YYYY-MM-DD HH24:MI:SS.FF'), 4, 104),\n",
    "        (TO_TIMESTAMP('2024-11-03 19:00:00.000000', 'YYYY-MM-DD HH24:MI:SS.FF'), 1, 105),\n",
    "        (TO_TIMESTAMP('2024-11-04 20:00:00.000000', 'YYYY-MM-DD HH24:MI:SS.FF'), 2, 105),\n",
    "        (TO_TIMESTAMP('2024-11-03 21:01:00.000000', 'YYYY-MM-DD HH24:MI:SS.FF'), 1, 102)\n",
    "\"\"\")\n",
    "\n",
    "cursor.execute(\"\"\"COMMIT\"\"\")"
   ]
  },
  {
   "cell_type": "markdown",
   "id": "eea819e5-8eaa-482e-8b52-64cb41111d03",
   "metadata": {},
   "source": [
    "### Define a SQL Property Graph using SQL/PGQ as part of SQL:2023"
   ]
  },
  {
   "cell_type": "code",
   "execution_count": null,
   "id": "2bf69da7-4a69-4091-a8be-2b409b97232a",
   "metadata": {
    "tags": []
   },
   "outputs": [],
   "source": [
    "# Drop the graph if it exists\n",
    "\n",
    "sql = \"\"\"DROP PROPERTY GRAPH IF EXISTS CUSTOMER_WATCHED_MOVIES\"\"\"\n",
    "cursor.execute(sql)"
   ]
  },
  {
   "cell_type": "code",
   "execution_count": null,
   "id": "d63c7102-977e-494a-88d0-13f3a98a2039",
   "metadata": {
    "tags": []
   },
   "outputs": [],
   "source": [
    "# Create the graph if it not exists\n",
    "\n",
    "sql = \"\"\"\n",
    "    CREATE PROPERTY GRAPH IF NOT EXISTS CUSTOMER_WATCHED_MOVIES\n",
    "        VERTEX TABLES (\n",
    "            CUSTOMERS\n",
    "                KEY(CUST_ID)\n",
    "                LABEL Customer\n",
    "                PROPERTIES ARE ALL COLUMNS,\n",
    "            MOVIES\n",
    "                KEY(MOVIE_ID)\n",
    "                LABEL Movie\n",
    "                PROPERTIES ARE ALL COLUMNS\n",
    "        )\n",
    "        EDGE TABLES(\n",
    "            WATCHED_MOVIE AS WATCHED\n",
    "                KEY (DAY_ID, MOVIE_ID, PROMO_CUST_ID)\n",
    "                SOURCE KEY (PROMO_CUST_ID) REFERENCES CUSTOMERS (CUST_ID)\n",
    "                DESTINATION KEY (MOVIE_ID) REFERENCES MOVIES (MOVIE_ID)\n",
    "                LABEL WATCHED\n",
    "                PROPERTIES ARE ALL COLUMNS\n",
    "        )\n",
    "\"\"\"\n",
    "cursor.execute(sql)"
   ]
  },
  {
   "cell_type": "markdown",
   "id": "b0f91092-2110-49d3-acdc-b03246fe2199",
   "metadata": {},
   "source": [
    "### Query the SQL Property Graph using SQL/PGQ"
   ]
  },
  {
   "cell_type": "code",
   "execution_count": null,
   "id": "363e4ac0-79a9-4c45-94d4-1d7409bfffee",
   "metadata": {
    "tags": []
   },
   "outputs": [],
   "source": [
    "# Run a first basic query: Customers that watched a movie\n",
    "\n",
    "sql = \"\"\"\n",
    "    SELECT MOVIE_TITLE, LASTNAME, FIRSTNAME\n",
    "    FROM GRAPH_TABLE(\n",
    "        CUSTOMER_WATCHED_MOVIES\n",
    "        MATCH (c IS CUSTOMER) -[w IS WATCHED]-> (m IS MOVIE)\n",
    "        COLUMNS(c.FIRSTNAME AS FIRSTNAME, c.LASTNAME AS LASTNAME, m.TITLE AS MOVIE_TITLE, w.DAY_ID as DAY_WATCHED)\n",
    "    )\n",
    "    ORDER BY MOVIE_TITLE, LASTNAME, FIRSTNAME\n",
    "\"\"\"\n",
    "for row in cursor.execute(sql):\n",
    "    print(row)"
   ]
  },
  {
   "cell_type": "code",
   "execution_count": null,
   "id": "3c87fff7-59be-4655-b3bd-00b69070d2dc",
   "metadata": {
    "tags": []
   },
   "outputs": [],
   "source": [
    "# Run a second basic query: Customers that watched the same movie\n",
    "\n",
    "sql = \"\"\"\n",
    "    SELECT DISTINCT\n",
    "        MOVIE_TITLE,\n",
    "        C1_NAME, \n",
    "        C2_NAME\n",
    "    FROM GRAPH_TABLE(\n",
    "        CUSTOMER_WATCHED_MOVIES\n",
    "        MATCH (c1 IS CUSTOMER) -[w1 IS WATCHED]-> (m IS MOVIE) <-[w2 IS WATCHED]- (c2 IS CUSTOMER)\n",
    "        WHERE c1.CUST_ID <> c2.CUST_ID\n",
    "        COLUMNS(\n",
    "            c1.CUST_ID AS C1_ID, \n",
    "            c2.CUST_ID AS C2_ID, \n",
    "            c1.FIRSTNAME || ' ' || c1.LASTNAME AS C1_NAME, \n",
    "            c2.FIRSTNAME || ' ' || c2.LASTNAME AS C2_NAME, \n",
    "            m.TITLE AS MOVIE_TITLE\n",
    "        )\n",
    "    )\n",
    "    ORDER BY\n",
    "        MOVIE_TITLE, C1_NAME, C2_NAME\n",
    "\"\"\"\n",
    "for row in cursor.execute(sql):\n",
    "    print(row)"
   ]
  },
  {
   "cell_type": "markdown",
   "id": "5c0e9ddf-2873-4b0e-b35c-4e0c53333a76",
   "metadata": {},
   "source": [
    "### Use SQL Property Graphs and Langchain to provide more context for Generative AI queries"
   ]
  },
  {
   "cell_type": "code",
   "execution_count": null,
   "id": "c38097f1-c136-4667-a63a-1cd559ea711b",
   "metadata": {
    "tags": []
   },
   "outputs": [],
   "source": [
    "from langchain_openai import ChatOpenAI"
   ]
  },
  {
   "cell_type": "code",
   "execution_count": null,
   "id": "bf3786c4-a466-4f06-a393-581af35c37e1",
   "metadata": {
    "tags": []
   },
   "outputs": [],
   "source": [
    "file=open('/home/datascience/config/openai_credentials.txt','r')\n",
    "oai=file.readline().strip()"
   ]
  },
  {
   "cell_type": "code",
   "execution_count": null,
   "id": "047e4421-b2fc-4681-98e1-2c47afccdc97",
   "metadata": {
    "tags": []
   },
   "outputs": [],
   "source": [
    "# Set up OpenAI LLM\n",
    "\n",
    "print (\"WARNING: The step will fail if the API key is not present or is incorrect.\")\n",
    "print (\"Please update the OpenAI_API_key before calling the llm the next step.\")\n",
    "\n",
    "# Set the LLM to get response\n",
    "llm = ChatOpenAI(\n",
    "  model_name = 'gpt-4.1-mini',\n",
    "  temperature = 0.1,\n",
    "  openai_api_key = oai,\n",
    "  max_tokens = 2000\n",
    ")\n",
    "print(\"The LLM model you will use is OpenAI ChatGPT 4.0 Mini\")"
   ]
  },
  {
   "cell_type": "code",
   "execution_count": null,
   "id": "e8c73d92-5b04-4d42-9af8-d7fd1b8f805f",
   "metadata": {
    "tags": []
   },
   "outputs": [],
   "source": [
    "from langchain_core.prompts import PromptTemplate"
   ]
  },
  {
   "cell_type": "markdown",
   "id": "28a87755-ab65-4795-acac-287b393d14ac",
   "metadata": {},
   "source": [
    "**Task**: For every movie that a customer has watched, what is the **genre** based on the movie summary?  \n",
    "Use a **prompt template** to find the genre."
   ]
  },
  {
   "cell_type": "code",
   "execution_count": null,
   "id": "a750a75f-7ab3-4032-b0f1-16e268a37b94",
   "metadata": {
    "tags": []
   },
   "outputs": [],
   "source": [
    "# Create a prompt template\n",
    "\n",
    "template = \"What is the genre of {movie} based on this summary: {summary}?\"\n",
    "prompt = PromptTemplate.from_template(template)\n",
    "\n",
    "# Create a chain with the prompt and LLM\n",
    "chain = prompt | llm"
   ]
  },
  {
   "cell_type": "code",
   "execution_count": null,
   "id": "7370384a-b87e-461e-bacb-0de7aa8b7aa0",
   "metadata": {
    "tags": []
   },
   "outputs": [],
   "source": [
    "# Query the graph: Find all movies that were watched by a customer, and get the movie title and summary back as the result set.\n",
    "\n",
    "sql = \"\"\"\n",
    "    SELECT DISTINCT \n",
    "        MOVIE_TITLE, \n",
    "        MOVIE_SUMMARY\n",
    "    FROM GRAPH_TABLE( \n",
    "        CUSTOMER_WATCHED_MOVIES\n",
    "        MATCH (c1 IS CUSTOMER)-[e1 IS WATCHED]->(m IS MOVIE)\n",
    "        COLUMNS (m.title as MOVIE_TITLE, m.summary as MOVIE_SUMMARY) \n",
    "    )\n",
    "\"\"\"\n",
    "\n",
    "# Execute the SQL query\n",
    "cursor.execute(sql)\n",
    "\n",
    "# Fetch all rows from the executed query\n",
    "rows = cursor.fetchall()\n",
    "print(rows)"
   ]
  },
  {
   "cell_type": "code",
   "execution_count": null,
   "id": "dc3f9f70-2999-4a62-aa99-0b075c20bbbc",
   "metadata": {
    "tags": []
   },
   "outputs": [],
   "source": [
    "# Invoke the chain based on the response and print the results including the generated genre\n",
    "\n",
    "for row in rows:\n",
    "    # Run the chain and print the output\n",
    "    result = chain.invoke({'movie': row[0], 'summary': row[1]})\n",
    "    print(result.content)"
   ]
  },
  {
   "cell_type": "markdown",
   "id": "c3f815de-c4ef-460e-a6e9-394c8bab2196",
   "metadata": {},
   "source": [
    "**Task**: Based on the movies a customer has watched, containing movie titles, genres and summaries. How would you describe the movie watching preferences of this user?"
   ]
  },
  {
   "cell_type": "code",
   "execution_count": null,
   "id": "5292926f-4aad-45a7-80f6-534bf42d5dcd",
   "metadata": {
    "tags": []
   },
   "outputs": [],
   "source": [
    "# Query the graph: Find all movies, customer 101 has watched\n",
    "\n",
    "sql = \"\"\"\n",
    "    SELECT DISTINCT\n",
    "        MOVIE_TITLE, \n",
    "        MOVIE_SUMMARY\n",
    "    FROM GRAPH_TABLE( \n",
    "        CUSTOMER_WATCHED_MOVIES\n",
    "        MATCH (c IS CUSTOMER)-[e1 IS WATCHED]->(m IS MOVIE)\n",
    "        WHERE c.CUST_ID = 101\n",
    "        COLUMNS (m.title as MOVIE_TITLE, m.summary as MOVIE_SUMMARY) \n",
    "    )\n",
    "\"\"\"\n",
    "\n",
    "# Execute the SQL query\n",
    "cursor.execute(sql)\n",
    "\n",
    "# Fetch all rows from the executed query\n",
    "rows = cursor.fetchall()\n",
    "print(rows)"
   ]
  },
  {
   "cell_type": "code",
   "execution_count": null,
   "id": "65533ff6-28cf-48b5-bb73-b77303d52f1a",
   "metadata": {
    "tags": []
   },
   "outputs": [],
   "source": [
    "# Create a new prompt template\n",
    "\n",
    "template = \"Based on the movies a customer has watched, containing movie titles, genres and summaries. How would you describe the movie watching preferences of this user? {data}\"\n",
    "prompt = PromptTemplate.from_template(template)\n",
    "\n",
    "chain = prompt | llm"
   ]
  },
  {
   "cell_type": "code",
   "execution_count": null,
   "id": "955fcab8-6057-44f3-b81b-f9bc1b13b833",
   "metadata": {
    "tags": []
   },
   "outputs": [],
   "source": [
    "# Invoke the chain and print the results\n",
    "\n",
    "result = chain.invoke({'data': rows})\n",
    "print(result.content)"
   ]
  },
  {
   "cell_type": "markdown",
   "id": "1b638cb2-a64c-4431-9ae1-0e3d32f00ee6",
   "metadata": {},
   "source": [
    "The analysis is about the customer habits of watching movies. This can be useful for making informed decisions on what types of movies customers tend to like, so we can provide tailored recommendations to them."
   ]
  },
  {
   "cell_type": "markdown",
   "id": "743f609d-81e0-4d41-ba56-d490025a3754",
   "metadata": {},
   "source": [
    "**Task**: Instead of writing a SQL query to ask which user has watched the most movies, ask the LLM?"
   ]
  },
  {
   "cell_type": "code",
   "execution_count": null,
   "id": "0b6fd78f-ccf9-4b60-85c0-2fd36c1e3b65",
   "metadata": {
    "tags": []
   },
   "outputs": [],
   "source": [
    "# Query the graph: Find all movies watched by any customer\n",
    "\n",
    "sql = \"\"\"\n",
    "    SELECT *\n",
    "    FROM GRAPH_TABLE( \n",
    "        CUSTOMER_WATCHED_MOVIES\n",
    "        MATCH (c1 IS CUSTOMER)-[e1 IS WATCHED]->(m IS MOVIE)\n",
    "        COLUMNS (c1.CUST_ID as customer_id, m.MOVIE_ID as movie_id, e1.DAY_ID as date_watched) \n",
    "    )\n",
    "    ORDER BY\n",
    "        customer_id,\n",
    "        movie_id,\n",
    "        date_watched        \n",
    "\"\"\"\n",
    "\n",
    "# Execute the SQL query\n",
    "cursor.execute(sql)\n",
    "\n",
    "# Fetch all rows from the result set\n",
    "result = cursor.fetchall()\n",
    "\n",
    "# Print the rows\n",
    "for row in result:\n",
    "  print(row)"
   ]
  },
  {
   "cell_type": "code",
   "execution_count": null,
   "id": "726886c2-97c7-42f6-b455-15c0bc8ca67d",
   "metadata": {
    "tags": []
   },
   "outputs": [],
   "source": [
    "# Create another prompt template\n",
    "\n",
    "template = \"Based on the movies that customers have watched, containing customer IDs, movie IDs and date watched, Which customer has watched the most movies? {data}\"\n",
    "prompt = PromptTemplate.from_template(template)\n",
    "\n",
    "chain = prompt | llm"
   ]
  },
  {
   "cell_type": "code",
   "execution_count": null,
   "id": "309e5bbc-f75f-4559-989d-c6f25e0b0766",
   "metadata": {
    "tags": []
   },
   "outputs": [],
   "source": [
    "# Invoke the chain and print the results\n",
    "\n",
    "result = chain.invoke({'data': rows})\n",
    "print(result.content)"
   ]
  },
  {
   "cell_type": "code",
   "execution_count": null,
   "id": "c9dcadfb-a382-4dca-be0e-6a8c0b2d9a92",
   "metadata": {
    "tags": []
   },
   "outputs": [],
   "source": [
    "cursor.execute(\"\"\"\n",
    "    INSERT INTO WATCHED_MOVIE (DAY_ID, MOVIE_ID, PROMO_CUST_ID) VALUES\n",
    "        (TO_TIMESTAMP('2025-06-05 12:00:00.000000', 'YYYY-MM-DD HH24:MI:SS.FF'), 5, 101)\n",
    "\"\"\")\n",
    "\n",
    "cursor.execute(\"\"\"COMMIT\"\"\")"
   ]
  },
  {
   "cell_type": "code",
   "execution_count": null,
   "id": "519a9f32-9b07-41e7-b572-bbe7382c6377",
   "metadata": {
    "tags": []
   },
   "outputs": [],
   "source": [
    "# Re-run the query\n",
    "\n",
    "sql = \"\"\"\n",
    "    SELECT *\n",
    "    FROM GRAPH_TABLE( \n",
    "        CUSTOMER_WATCHED_MOVIES\n",
    "        MATCH (c1 IS CUSTOMER)-[e1 IS WATCHED]->(m IS MOVIE)\n",
    "        COLUMNS (c1.CUST_ID as customer_id, m.MOVIE_ID as movie_id, e1.DAY_ID as date_watched) \n",
    "    )\n",
    "\"\"\"\n",
    "cursor.execute(sql)\n",
    "rows = cursor.fetchall()"
   ]
  },
  {
   "cell_type": "code",
   "execution_count": null,
   "id": "e59e7370-f847-4eab-aa4a-1b18f660bc17",
   "metadata": {
    "tags": []
   },
   "outputs": [],
   "source": [
    "# Re-invoke the chain and print the results\n",
    "\n",
    "result = chain.invoke({'data': rows})\n",
    "print(result.content)"
   ]
  }
 ],
 "metadata": {
  "kernelspec": {
   "display_name": "Python 3 (ipykernel)",
   "language": "python",
   "name": "python3"
  },
  "language_info": {
   "codemirror_mode": {
    "name": "ipython",
    "version": 3
   },
   "file_extension": ".py",
   "mimetype": "text/x-python",
   "name": "python",
   "nbconvert_exporter": "python",
   "pygments_lexer": "ipython3",
   "version": "3.11.9"
  }
 },
 "nbformat": 4,
 "nbformat_minor": 5
}
